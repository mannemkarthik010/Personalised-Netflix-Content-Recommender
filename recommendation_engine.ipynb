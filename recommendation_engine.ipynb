{
 "cells": [
  {
   "cell_type": "code",
   "execution_count": 17,
   "metadata": {},
   "outputs": [],
   "source": [
    "# Importing necessary libraries\n",
    "import pandas as pd\n",
    "import numpy as np\n",
    "from sklearn.feature_extraction.text import CountVectorizer\n",
    "from sklearn.metrics.pairwise import cosine_similarity\n",
    "import neattext.functions as nfx\n",
    "import warnings\n",
    "\n",
    "# Ignore warnings\n",
    "warnings.filterwarnings(\"ignore\")"
   ]
  },
  {
   "cell_type": "code",
   "execution_count": 18,
   "metadata": {},
   "outputs": [
    {
     "name": "stdout",
     "output_type": "stream",
     "text": [
      "  show_id     type                  title         director  \\\n",
      "0      s1    Movie   Dick Johnson Is Dead  Kirsten Johnson   \n",
      "1      s2  TV Show          Blood & Water              NaN   \n",
      "2      s3  TV Show              Ganglands  Julien Leclercq   \n",
      "3      s4  TV Show  Jailbirds New Orleans              NaN   \n",
      "4      s5  TV Show           Kota Factory              NaN   \n",
      "\n",
      "                                                cast        country  \\\n",
      "0                                                NaN  United States   \n",
      "1  Ama Qamata, Khosi Ngema, Gail Mabalane, Thaban...   South Africa   \n",
      "2  Sami Bouajila, Tracy Gotoas, Samuel Jouy, Nabi...            NaN   \n",
      "3                                                NaN            NaN   \n",
      "4  Mayur More, Jitendra Kumar, Ranjan Raj, Alam K...          India   \n",
      "\n",
      "           date_added  release_year rating   duration  \\\n",
      "0  September 25, 2021          2020  PG-13     90 min   \n",
      "1  September 24, 2021          2021  TV-MA  2 Seasons   \n",
      "2  September 24, 2021          2021  TV-MA   1 Season   \n",
      "3  September 24, 2021          2021  TV-MA   1 Season   \n",
      "4  September 24, 2021          2021  TV-MA  2 Seasons   \n",
      "\n",
      "                                           listed_in  \\\n",
      "0                                      Documentaries   \n",
      "1    International TV Shows, TV Dramas, TV Mysteries   \n",
      "2  Crime TV Shows, International TV Shows, TV Act...   \n",
      "3                             Docuseries, Reality TV   \n",
      "4  International TV Shows, Romantic TV Shows, TV ...   \n",
      "\n",
      "                                         description  \n",
      "0  As her father nears the end of his life, filmm...  \n",
      "1  After crossing paths at a party, a Cape Town t...  \n",
      "2  To protect his family from a powerful drug lor...  \n",
      "3  Feuds, flirtations and toilet talk go down amo...  \n",
      "4  In a city of coaching centers known to train I...  \n"
     ]
    }
   ],
   "source": [
    "# Load the dataset\n",
    "netflix_data = pd.read_csv('netflix_titles.csv')\n",
    "print(netflix_data.head())\n"
   ]
  },
  {
   "cell_type": "code",
   "execution_count": 19,
   "metadata": {},
   "outputs": [
    {
     "name": "stdout",
     "output_type": "stream",
     "text": [
      "type\n",
      "Movie      6131\n",
      "TV Show    2676\n",
      "Name: count, dtype: int64\n"
     ]
    }
   ],
   "source": [
    "# Rename the 'listed_in' column to 'genres'\n",
    "netflix_data.rename(columns={'listed_in': 'genres'}, inplace=True)\n",
    "\n",
    "# Check the distribution of content types\n",
    "print(netflix_data['type'].value_counts())"
   ]
  },
  {
   "cell_type": "code",
   "execution_count": 20,
   "metadata": {},
   "outputs": [
    {
     "name": "stdout",
     "output_type": "stream",
     "text": [
      "  show_id   type                             title  \\\n",
      "0      s1  Movie              Dick Johnson Is Dead   \n",
      "1      s7  Movie  My Little Pony: A New Generation   \n",
      "2      s8  Movie                           Sankofa   \n",
      "3     s10  Movie                      The Starling   \n",
      "4     s13  Movie                      Je Suis Karl   \n",
      "\n",
      "                        director  \\\n",
      "0                Kirsten Johnson   \n",
      "1  Robert Cullen, José Luis Ucha   \n",
      "2                   Haile Gerima   \n",
      "3                 Theodore Melfi   \n",
      "4            Christian Schwochow   \n",
      "\n",
      "                                                cast  \\\n",
      "0                                                NaN   \n",
      "1  Vanessa Hudgens, Kimiko Glenn, James Marsden, ...   \n",
      "2  Kofi Ghanaba, Oyafunmike Ogunlano, Alexandra D...   \n",
      "3  Melissa McCarthy, Chris O'Dowd, Kevin Kline, T...   \n",
      "4  Luna Wedler, Jannis Niewöhner, Milan Peschel, ...   \n",
      "\n",
      "                                             country          date_added  \\\n",
      "0                                      United States  September 25, 2021   \n",
      "1                                                NaN  September 24, 2021   \n",
      "2  United States, Ghana, Burkina Faso, United Kin...  September 24, 2021   \n",
      "3                                      United States  September 24, 2021   \n",
      "4                            Germany, Czech Republic  September 23, 2021   \n",
      "\n",
      "   release_year rating duration  \\\n",
      "0          2020  PG-13   90 min   \n",
      "1          2021     PG   91 min   \n",
      "2          1993  TV-MA  125 min   \n",
      "3          2021  PG-13  104 min   \n",
      "4          2021  TV-MA  127 min   \n",
      "\n",
      "                                             genres  \\\n",
      "0                                     Documentaries   \n",
      "1                          Children & Family Movies   \n",
      "2  Dramas, Independent Movies, International Movies   \n",
      "3                                  Comedies, Dramas   \n",
      "4                      Dramas, International Movies   \n",
      "\n",
      "                                         description  \n",
      "0  As her father nears the end of his life, filmm...  \n",
      "1  Equestria's divided. But a bright-eyed hero be...  \n",
      "2  On a photo shoot in Ghana, an American model s...  \n",
      "3  A woman adjusting to life after a loss contend...  \n",
      "4  After most of her family is murdered in a terr...  \n",
      "Number of duplicates in movies data: 0\n",
      "Missing values in movies data:\n",
      " show_id           0\n",
      "type              0\n",
      "title             0\n",
      "director        188\n",
      "cast            475\n",
      "country         440\n",
      "date_added        0\n",
      "release_year      0\n",
      "rating            2\n",
      "duration          3\n",
      "genres            0\n",
      "description       0\n",
      "dtype: int64\n"
     ]
    }
   ],
   "source": [
    "# Filter movies from the dataset\n",
    "movies_data = netflix_data[netflix_data['type'] == 'Movie'].reset_index(drop=True)\n",
    "print(movies_data.head())\n",
    "\n",
    "# Check for duplicates\n",
    "print(\"Number of duplicates in movies data:\", movies_data.duplicated().sum())\n",
    "\n",
    "# Check for missing values\n",
    "print(\"Missing values in movies data:\\n\", movies_data.isnull().sum())\n"
   ]
  },
  {
   "cell_type": "code",
   "execution_count": 21,
   "metadata": {},
   "outputs": [
    {
     "name": "stdout",
     "output_type": "stream",
     "text": [
      "  show_id   type         title             director  \\\n",
      "0      s8  Movie       Sankofa         Haile Gerima   \n",
      "1     s10  Movie  The Starling       Theodore Melfi   \n",
      "2     s13  Movie  Je Suis Karl  Christian Schwochow   \n",
      "3     s25  Movie         Jeans           S. Shankar   \n",
      "4     s28  Movie     Grown Ups         Dennis Dugan   \n",
      "\n",
      "                                                cast  \\\n",
      "0  Kofi Ghanaba, Oyafunmike Ogunlano, Alexandra D...   \n",
      "1  Melissa McCarthy, Chris O'Dowd, Kevin Kline, T...   \n",
      "2  Luna Wedler, Jannis Niewöhner, Milan Peschel, ...   \n",
      "3  Prashanth, Aishwarya Rai Bachchan, Sri Lakshmi...   \n",
      "4  Adam Sandler, Kevin James, Chris Rock, David S...   \n",
      "\n",
      "                                             country          date_added  \\\n",
      "0  United States, Ghana, Burkina Faso, United Kin...  September 24, 2021   \n",
      "1                                      United States  September 24, 2021   \n",
      "2                            Germany, Czech Republic  September 23, 2021   \n",
      "3                                              India  September 21, 2021   \n",
      "4                                      United States  September 20, 2021   \n",
      "\n",
      "   release_year rating duration  \\\n",
      "0          1993  TV-MA  125 min   \n",
      "1          2021  PG-13  104 min   \n",
      "2          2021  TV-MA  127 min   \n",
      "3          1998  TV-14  166 min   \n",
      "4          2010  PG-13  103 min   \n",
      "\n",
      "                                             genres  \\\n",
      "0  Dramas, Independent Movies, International Movies   \n",
      "1                                  Comedies, Dramas   \n",
      "2                      Dramas, International Movies   \n",
      "3   Comedies, International Movies, Romantic Movies   \n",
      "4                                          Comedies   \n",
      "\n",
      "                                         description  \n",
      "0  On a photo shoot in Ghana, an American model s...  \n",
      "1  A woman adjusting to life after a loss contend...  \n",
      "2  After most of her family is murdered in a terr...  \n",
      "3  When the father of the man she loves insists t...  \n",
      "4  Mourning the loss of their beloved junior high...  \n"
     ]
    }
   ],
   "source": [
    "# Fill missing values in the 'rating' column\n",
    "movies_data['rating'].fillna('NaN', inplace=True)\n",
    "\n",
    "# Drop rows with missing values\n",
    "movies_data.dropna(inplace=True)\n",
    "movies_data = movies_data.reset_index(drop=True)\n",
    "print(movies_data.head())\n"
   ]
  },
  {
   "cell_type": "code",
   "execution_count": 22,
   "metadata": {},
   "outputs": [
    {
     "name": "stdout",
     "output_type": "stream",
     "text": [
      "          title             director  \\\n",
      "0       Sankofa         Haile Gerima   \n",
      "1  The Starling       Theodore Melfi   \n",
      "2  Je Suis Karl  Christian Schwochow   \n",
      "3         Jeans           S. Shankar   \n",
      "4     Grown Ups         Dennis Dugan   \n",
      "\n",
      "                                                cast  \\\n",
      "0  Kofi Ghanaba, Oyafunmike Ogunlano, Alexandra D...   \n",
      "1  Melissa McCarthy, Chris O'Dowd, Kevin Kline, T...   \n",
      "2  Luna Wedler, Jannis Niewöhner, Milan Peschel, ...   \n",
      "3  Prashanth, Aishwarya Rai Bachchan, Sri Lakshmi...   \n",
      "4  Adam Sandler, Kevin James, Chris Rock, David S...   \n",
      "\n",
      "                                             country rating  \\\n",
      "0  United States, Ghana, Burkina Faso, United Kin...  TV-MA   \n",
      "1                                      United States  PG-13   \n",
      "2                            Germany, Czech Republic  TV-MA   \n",
      "3                                              India  TV-14   \n",
      "4                                      United States  PG-13   \n",
      "\n",
      "                                             genres  \n",
      "0  Dramas, Independent Movies, International Movies  \n",
      "1                                  Comedies, Dramas  \n",
      "2                      Dramas, International Movies  \n",
      "3   Comedies, International Movies, Romantic Movies  \n",
      "4                                          Comedies  \n",
      "         count unique                           top  freq\n",
      "title     5186   5186                       Sankofa     1\n",
      "director  5186   3829        Raúl Campos, Jan Suter    18\n",
      "cast      5186   5062                   Samuel West    10\n",
      "country   5186    594                 United States  1819\n",
      "rating    5186     15                         TV-MA  1741\n",
      "genres    5186    268  Dramas, International Movies   336\n"
     ]
    }
   ],
   "source": [
    "# Select relevant features for recommendation\n",
    "movie_features = movies_data[['title', 'director', 'cast', 'country', 'rating', 'genres']]\n",
    "print(movie_features.head())\n",
    "\n",
    "# Describe the selected features\n",
    "print(movie_features.describe().T)"
   ]
  },
  {
   "cell_type": "code",
   "execution_count": 23,
   "metadata": {},
   "outputs": [],
   "source": [
    "# Prepare data for vectorization\n",
    "# Remove stopwords and special characters\n",
    "movie_features['director'] = movie_features['director'].apply(nfx.remove_stopwords)\n",
    "movie_features['cast'] = movie_features['cast'].apply(nfx.remove_stopwords)\n",
    "movie_features['country'] = movie_features['country'].apply(nfx.remove_stopwords)\n",
    "movie_features['genres'] = movie_features['genres'].apply(nfx.remove_stopwords)\n",
    "movie_features['country'] = movie_features['country'].apply(nfx.remove_special_characters)\n"
   ]
  },
  {
   "cell_type": "code",
   "execution_count": 24,
   "metadata": {},
   "outputs": [],
   "source": [
    "# Vectorize the data\n",
    "vectorizer = CountVectorizer(binary=True)\n",
    "country_matrix = vectorizer.fit_transform(movie_features['country']).toarray()\n",
    "\n",
    "vectorizer = CountVectorizer(binary=True, tokenizer=lambda x: x.split(','))\n",
    "director_matrix = vectorizer.fit_transform(movie_features['director']).toarray()\n",
    "cast_matrix = vectorizer.fit_transform(movie_features['cast']).toarray()\n",
    "genres_matrix = vectorizer.fit_transform(movie_features['genres']).toarray()\n"
   ]
  },
  {
   "cell_type": "code",
   "execution_count": 25,
   "metadata": {},
   "outputs": [],
   "source": [
    "# Convert matrices to DataFrames\n",
    "director_df = pd.DataFrame(director_matrix).transpose()\n",
    "cast_df = pd.DataFrame(cast_matrix).transpose()\n",
    "country_df = pd.DataFrame(country_matrix).transpose()\n",
    "genres_df = pd.DataFrame(genres_matrix).transpose()\n",
    "\n",
    "# Combine all DataFrames\n",
    "combined_features = pd.concat([director_df, cast_df, country_df, genres_df], axis=0, ignore_index=True)\n"
   ]
  },
  {
   "cell_type": "code",
   "execution_count": 26,
   "metadata": {},
   "outputs": [
    {
     "name": "stdout",
     "output_type": "stream",
     "text": [
      "Shape of similarity matrix: (5186, 5186)\n",
      "  show_id     type                  title         director  \\\n",
      "0      s2  TV Show          Blood & Water              NaN   \n",
      "1      s3  TV Show              Ganglands  Julien Leclercq   \n",
      "2      s4  TV Show  Jailbirds New Orleans              NaN   \n",
      "3      s5  TV Show           Kota Factory              NaN   \n",
      "4      s6  TV Show          Midnight Mass    Mike Flanagan   \n",
      "\n",
      "                                                cast       country  \\\n",
      "0  Ama Qamata, Khosi Ngema, Gail Mabalane, Thaban...  South Africa   \n",
      "1  Sami Bouajila, Tracy Gotoas, Samuel Jouy, Nabi...           NaN   \n",
      "2                                                NaN           NaN   \n",
      "3  Mayur More, Jitendra Kumar, Ranjan Raj, Alam K...         India   \n",
      "4  Kate Siegel, Zach Gilford, Hamish Linklater, H...           NaN   \n",
      "\n",
      "           date_added  release_year rating   duration  \\\n",
      "0  September 24, 2021          2021  TV-MA  2 Seasons   \n",
      "1  September 24, 2021          2021  TV-MA   1 Season   \n",
      "2  September 24, 2021          2021  TV-MA   1 Season   \n",
      "3  September 24, 2021          2021  TV-MA  2 Seasons   \n",
      "4  September 24, 2021          2021  TV-MA   1 Season   \n",
      "\n",
      "                                              genres  \\\n",
      "0    International TV Shows, TV Dramas, TV Mysteries   \n",
      "1  Crime TV Shows, International TV Shows, TV Act...   \n",
      "2                             Docuseries, Reality TV   \n",
      "3  International TV Shows, Romantic TV Shows, TV ...   \n",
      "4                 TV Dramas, TV Horror, TV Mysteries   \n",
      "\n",
      "                                         description  \n",
      "0  After crossing paths at a party, a Cape Town t...  \n",
      "1  To protect his family from a powerful drug lor...  \n",
      "2  Feuds, flirtations and toilet talk go down amo...  \n",
      "3  In a city of coaching centers known to train I...  \n",
      "4  The arrival of a charismatic young priest brin...  \n",
      "Number of duplicates in TV shows data: 0\n"
     ]
    }
   ],
   "source": [
    "# Compute cosine similarity\n",
    "movie_similarity = cosine_similarity(combined_features.T)\n",
    "print(\"Shape of similarity matrix:\", movie_similarity.shape)\n",
    "\n",
    "# Filter TV shows from the dataset\n",
    "tv_shows_data = netflix_data[netflix_data['type'] == 'TV Show'].reset_index(drop=True)\n",
    "print(tv_shows_data.head())\n",
    "\n",
    "# Check for duplicates\n",
    "print(\"Number of duplicates in TV shows data:\", tv_shows_data.duplicated().sum())\n"
   ]
  },
  {
   "cell_type": "code",
   "execution_count": 27,
   "metadata": {},
   "outputs": [
    {
     "name": "stdout",
     "output_type": "stream",
     "text": [
      "Missing values in TV shows data:\n",
      " show_id            0\n",
      "type               0\n",
      "title              0\n",
      "director        2446\n",
      "cast             350\n",
      "country          391\n",
      "date_added        10\n",
      "release_year       0\n",
      "rating             2\n",
      "duration           0\n",
      "genres             0\n",
      "description        0\n",
      "dtype: int64\n",
      "  show_id     type                          title         director  \\\n",
      "0      s2  TV Show                  Blood & Water              NaN   \n",
      "1      s5  TV Show                   Kota Factory              NaN   \n",
      "2      s9  TV Show  The Great British Baking Show  Andy Devonshire   \n",
      "3     s16  TV Show              Dear White People              NaN   \n",
      "4     s18  TV Show                Falsa identidad              NaN   \n",
      "\n",
      "                                                cast         country  \\\n",
      "0  Ama Qamata, Khosi Ngema, Gail Mabalane, Thaban...    South Africa   \n",
      "1  Mayur More, Jitendra Kumar, Ranjan Raj, Alam K...           India   \n",
      "2  Mel Giedroyc, Sue Perkins, Mary Berry, Paul Ho...  United Kingdom   \n",
      "3  Logan Browning, Brandon P. Bell, DeRon Horton,...   United States   \n",
      "4  Luis Ernesto Franco, Camila Sodi, Sergio Goyri...          Mexico   \n",
      "\n",
      "           date_added  release_year rating   duration  \\\n",
      "0  September 24, 2021          2021  TV-MA  2 Seasons   \n",
      "1  September 24, 2021          2021  TV-MA  2 Seasons   \n",
      "2  September 24, 2021          2021  TV-14  9 Seasons   \n",
      "3  September 22, 2021          2021  TV-MA  4 Seasons   \n",
      "4  September 22, 2021          2020  TV-MA  2 Seasons   \n",
      "\n",
      "                                              genres  \\\n",
      "0    International TV Shows, TV Dramas, TV Mysteries   \n",
      "1  International TV Shows, Romantic TV Shows, TV ...   \n",
      "2                       British TV Shows, Reality TV   \n",
      "3                             TV Comedies, TV Dramas   \n",
      "4  Crime TV Shows, Spanish-Language TV Shows, TV ...   \n",
      "\n",
      "                                         description  \n",
      "0  After crossing paths at a party, a Cape Town t...  \n",
      "1  In a city of coaching centers known to train I...  \n",
      "2  A talented batch of amateur bakers face off in...  \n",
      "3  Students of color navigate the daily slights a...  \n",
      "4  Strangers Diego and Isabel flee their home in ...  \n"
     ]
    }
   ],
   "source": [
    "# KNN with Cosine Similarity\n",
    "knn = NearestNeighbors(metric='cosine', algorithm='brute')\n",
    "knn.fit(movies_tfidf_matrix)\n",
    "# Check for missing values\n",
    "print(\"Missing values in TV shows data:\\n\", tv_shows_data.isnull().sum())\n",
    "\n",
    "# Fill missing values in the 'director' column\n",
    "tv_shows_data['director'].fillna('NaN', inplace=True)\n",
    "\n",
    "# Drop rows with missing values\n",
    "tv_shows_data.dropna(inplace=True)\n",
    "tv_shows_data = tv_shows_data.reset_index(drop=True)\n",
    "print(tv_shows_data.head())"
   ]
  },
  {
   "cell_type": "code",
   "execution_count": 28,
   "metadata": {},
   "outputs": [
    {
     "name": "stdout",
     "output_type": "stream",
     "text": [
      "                           title         director  \\\n",
      "0                  Blood & Water              NaN   \n",
      "1                   Kota Factory              NaN   \n",
      "2  The Great British Baking Show  Andy Devonshire   \n",
      "3              Dear White People              NaN   \n",
      "4                Falsa identidad              NaN   \n",
      "\n",
      "                                                cast         country rating  \\\n",
      "0  Ama Qamata, Khosi Ngema, Gail Mabalane, Thaban...    South Africa  TV-MA   \n",
      "1  Mayur More, Jitendra Kumar, Ranjan Raj, Alam K...           India  TV-MA   \n",
      "2  Mel Giedroyc, Sue Perkins, Mary Berry, Paul Ho...  United Kingdom  TV-14   \n",
      "3  Logan Browning, Brandon P. Bell, DeRon Horton,...   United States  TV-MA   \n",
      "4  Luis Ernesto Franco, Camila Sodi, Sergio Goyri...          Mexico  TV-MA   \n",
      "\n",
      "                                              genres  \n",
      "0    International TV Shows, TV Dramas, TV Mysteries  \n",
      "1  International TV Shows, Romantic TV Shows, TV ...  \n",
      "2                       British TV Shows, Reality TV  \n",
      "3                             TV Comedies, TV Dramas  \n",
      "4  Crime TV Shows, Spanish-Language TV Shows, TV ...  \n",
      "         count unique                 top  freq\n",
      "title     2013   2013       Blood & Water     1\n",
      "director  2013    142                 NaN  1866\n",
      "cast      2013   1980  David Attenborough    14\n",
      "country   2013    184       United States   618\n",
      "rating    2013      9               TV-MA   881\n",
      "genres    2013    219            Kids' TV   161\n"
     ]
    }
   ],
   "source": [
    "# Select relevant features for recommendation\n",
    "tv_features = tv_shows_data[['title', 'director', 'cast', 'country', 'rating', 'genres']]\n",
    "print(tv_features.head())\n",
    "\n",
    "# Describe the selected features\n",
    "print(tv_features.describe().T)\n"
   ]
  },
  {
   "cell_type": "code",
   "execution_count": 29,
   "metadata": {},
   "outputs": [],
   "source": [
    "# Prepare data for vectorization\n",
    "# Remove stopwords and special characters\n",
    "tv_features['cast'] = tv_features['cast'].apply(nfx.remove_stopwords)\n",
    "tv_features['country'] = tv_features['country'].apply(nfx.remove_stopwords)\n",
    "tv_features['genres'] = tv_features['genres'].apply(nfx.remove_stopwords)\n",
    "tv_features['country'] = tv_features['country'].apply(nfx.remove_special_characters)\n"
   ]
  },
  {
   "cell_type": "code",
   "execution_count": 32,
   "metadata": {},
   "outputs": [],
   "source": [
    "# Vectorize the data\n",
    "vectorizer = CountVectorizer(binary=True)\n",
    "country_matrix = vectorizer.fit_transform(tv_features['country']).toarray()\n",
    "\n",
    "vectorizer = CountVectorizer(binary=True, tokenizer=lambda x: x.split(','))\n",
    "cast_matrix = vectorizer.fit_transform(tv_features['cast']).toarray()\n",
    "genres_matrix = vectorizer.fit_transform(tv_features['genres']).toarray()\n"
   ]
  },
  {
   "cell_type": "code",
   "execution_count": 33,
   "metadata": {},
   "outputs": [],
   "source": [
    "# Convert matrices to DataFrames\n",
    "cast_df = pd.DataFrame(cast_matrix).transpose()\n",
    "country_df = pd.DataFrame(country_matrix).transpose()\n",
    "genres_df = pd.DataFrame(genres_matrix).transpose()\n",
    "\n",
    "# Combine all DataFrames\n",
    "combined_tv_features = pd.concat([cast_df, country_df, genres_df], axis=0, ignore_index=True)\n"
   ]
  },
  {
   "cell_type": "code",
   "execution_count": 34,
   "metadata": {},
   "outputs": [
    {
     "name": "stdout",
     "output_type": "stream",
     "text": [
      "Shape of TV similarity matrix: (2013, 2013)\n"
     ]
    }
   ],
   "source": [
    "# Compute cosine similarity\n",
    "tv_similarity = cosine_similarity(combined_tv_features.T)\n",
    "print(\"Shape of TV similarity matrix:\", tv_similarity.shape)\n"
   ]
  },
  {
   "cell_type": "code",
   "execution_count": 35,
   "metadata": {},
   "outputs": [],
   "source": [
    "# Recommendation function\n",
    "def get_recommendations(title):\n",
    "    if title in movies_data['title'].values:\n",
    "        index = movies_data[movies_data['title'] == title].index.item()\n",
    "        scores = dict(enumerate(movie_similarity[index]))\n",
    "        sorted_scores = dict(sorted(scores.items(), key=lambda x: x[1], reverse=True))\n",
    "\n",
    "        selected_indices = [id for id, score in sorted_scores.items()]\n",
    "        selected_scores = [score for id, score in sorted_scores.items()]\n",
    "\n",
    "        recommendations = movies_data.iloc[selected_indices]\n",
    "        recommendations['similarity'] = selected_scores\n",
    "\n",
    "        return recommendations[1:6]  # Skip the first row (same movie)\n",
    "\n",
    "    elif title in tv_shows_data['title'].values:\n",
    "        index = tv_shows_data[tv_shows_data['title'] == title].index.item()\n",
    "        scores = dict(enumerate(tv_similarity[index]))\n",
    "        sorted_scores = dict(sorted(scores.items(), key=lambda x: x[1], reverse=True))\n",
    "\n",
    "        selected_indices = [id for id, score in sorted_scores.items()]\n",
    "        selected_scores = [score for id, score in sorted_scores.items()]\n",
    "\n",
    "        recommendations = tv_shows_data.iloc[selected_indices]\n",
    "        recommendations['similarity'] = selected_scores\n",
    "\n",
    "        return recommendations[1:6]  # Skip the first row (same show)\n",
    "\n",
    "    else:\n",
    "        print(\"Title not found in the dataset. Please check the spelling.\")"
   ]
  },
  {
   "cell_type": "code",
   "execution_count": 36,
   "metadata": {},
   "outputs": [
    {
     "name": "stdout",
     "output_type": "stream",
     "text": [
      "     show_id   type                  title                     director  \\\n",
      "3531   s6416  Movie               Candyman                 Bernard Rose   \n",
      "4781   s8238  Movie                The Car           Elliot Silverstein   \n",
      "332     s797  Movie       Hostel: Part III                Scott Spiegel   \n",
      "2343   s4525  Movie  Tales From the Hood 2  Rusty Cundieff, Darin Scott   \n",
      "3618   s6545  Movie         Cult of Chucky                  Don Mancini   \n",
      "\n",
      "                                                   cast  \\\n",
      "3531  Virginia Madsen, Tony Todd, Xander Berkeley, K...   \n",
      "4781  James Brolin, Kathleen Lloyd, John Marley, R.G...   \n",
      "332   Kip Pardue, Brian Hallisay, John Hensley, Sara...   \n",
      "2343  Keith David, Bryan Batt, Alexandria Deberry, B...   \n",
      "3618  Fiona Dourif, Michael Therriault, Adam Hurtig,...   \n",
      "\n",
      "                            country        date_added  release_year rating  \\\n",
      "3531  United States, United Kingdom   October 1, 2019          1992      R   \n",
      "4781                  United States      June 1, 2020          1977     PG   \n",
      "332                   United States      June 2, 2021          2011      R   \n",
      "2343                  United States  October 10, 2018          2018      R   \n",
      "3618                  United States   October 3, 2017          2017      R   \n",
      "\n",
      "     duration                                          genres  \\\n",
      "3531   99 min                      Cult Movies, Horror Movies   \n",
      "4781   96 min                      Cult Movies, Horror Movies   \n",
      "332    88 min                      Cult Movies, Horror Movies   \n",
      "2343  110 min  Cult Movies, Horror Movies, Independent Movies   \n",
      "3618   90 min                                   Horror Movies   \n",
      "\n",
      "                                            description  similarity  \n",
      "3531  Grad student Helen Lyle unintentionally summon...    0.276026  \n",
      "4781  In his small Southwestern town, sheriff Wade P...    0.276026  \n",
      "332   In this installment in the popular horror fran...    0.266667  \n",
      "2343  Buckle up for an anthology of socially conscio...    0.266667  \n",
      "3618  Following a string of murders in the asylum wh...    0.266667  \n",
      "     show_id     type                                title director  \\\n",
      "721    s2932  TV Show                     Better Call Saul      NaN   \n",
      "143     s679  TV Show  The Assassination of Gianni Versace      NaN   \n",
      "1113   s4080  TV Show                             Unsolved      NaN   \n",
      "1717   s6842  TV Show                           Get Shorty      NaN   \n",
      "463    s1981  TV Show                        The Blacklist      NaN   \n",
      "\n",
      "                                                   cast        country  \\\n",
      "721   Bob Odenkirk, Jonathan Banks, Michael McKean, ...  United States   \n",
      "143   Edgar Ramírez, Darren Criss, Ricky Martin, Pen...  United States   \n",
      "1113       Josh Duhamel, Jimmi Simpson, Bokeem Woodbine  United States   \n",
      "1717                           Ray Romano, Chris O'Dowd  United States   \n",
      "463   James Spader, Megan Boone, Diego Klattenhoff, ...  United States   \n",
      "\n",
      "              date_added  release_year rating   duration  \\\n",
      "721     February 9, 2020          2018  TV-MA  4 Seasons   \n",
      "143        June 19, 2021          2018  TV-MA   1 Season   \n",
      "1113   February 27, 2019          2018  TV-MA   1 Season   \n",
      "1717    November 1, 2018          2017  TV-MA   1 Season   \n",
      "463   September 18, 2020          2019  TV-14  7 Seasons   \n",
      "\n",
      "                                       genres  \\\n",
      "721    Crime TV Shows, TV Comedies, TV Dramas   \n",
      "143   Crime TV Shows, TV Dramas, TV Thrillers   \n",
      "1113                Crime TV Shows, TV Dramas   \n",
      "1717   Crime TV Shows, TV Comedies, TV Dramas   \n",
      "463   Crime TV Shows, TV Dramas, TV Thrillers   \n",
      "\n",
      "                                            description  similarity  \n",
      "721   This Emmy-nominated prequel to \"Breaking Bad\" ...    0.447214  \n",
      "143   Defining moments in Andrew Cunanan's life, sta...    0.430331  \n",
      "1113  Ride along for a dramatized version of the rea...    0.390360  \n",
      "1717  Organized crime enforcer Miles Daly strives to...    0.390360  \n",
      "463   After turning himself in, a brilliant fugitive...    0.358057  \n"
     ]
    }
   ],
   "source": [
    "# Test the recommendation function\n",
    "print(get_recommendations(\"Child's Play\"))\n",
    "print(get_recommendations(\"Breaking Bad\"))\n"
   ]
  },
  {
   "cell_type": "code",
   "execution_count": 38,
   "metadata": {},
   "outputs": [],
   "source": [
    "import plotly.graph_objects as go\n",
    "\n",
    "def display_recommendations(df):\n",
    "    fig = go.Figure(data=[go.Table(\n",
    "        columnorder=[1, 2, 3, 4, 5],\n",
    "        columnwidth=[20, 20, 20, 30, 50],\n",
    "        header=dict(values=list(['Type', 'Title', 'Country', 'Genre(s)', 'Description']),\n",
    "                    line_color='black', font=dict(color='black', family=\"Gravitas One\", size=20), height=40,\n",
    "                    fill_color='#FF6865',\n",
    "                    align='center'),\n",
    "        cells=dict(values=[df.type, df.title, df.country, df.genres, df.description],\n",
    "                   font=dict(color='black', family=\"Lato\", size=16),\n",
    "                   fill_color='#FFB3B2',\n",
    "                   align='left'))\n",
    "    ])\n",
    "\n",
    "    fig.update_layout(height=700,\n",
    "                      title={'text': \"Top 5 Recommendations\", 'font': {'size': 22, 'family': 'Gravitas One'}},\n",
    "                      title_x=0.5\n",
    "                      )\n",
    "    fig.show()\n",
    "\n"
   ]
  },
  {
   "cell_type": "code",
   "execution_count": 39,
   "metadata": {},
   "outputs": [
    {
     "data": {
      "application/vnd.plotly.v1+json": {
       "config": {
        "plotlyServerURL": "https://plot.ly"
       },
       "data": [
        {
         "cells": {
          "align": "left",
          "fill": {
           "color": "#FFB3B2"
          },
          "font": {
           "color": "black",
           "family": "Lato",
           "size": 16
          },
          "values": [
           [
            "TV Show",
            "TV Show",
            "TV Show",
            "TV Show",
            "TV Show"
           ],
           [
            "La casa de papel",
            "The Idhun Chronicles",
            "Apaches",
            "Four Seasons in Havana",
            "Someone Has to Die"
           ],
           [
            "Spain",
            "Spain",
            "Spain",
            "Spain, Cuba",
            "Mexico, Spain"
           ],
           [
            "Crime TV Shows, International TV Shows, Spanish-Language TV Shows",
            "Anime Series, International TV Shows, Spanish-Language TV Shows",
            "Crime TV Shows, International TV Shows, Spanish-Language TV Shows",
            "Crime TV Shows, International TV Shows, Spanish-Language TV Shows",
            "Crime TV Shows, International TV Shows, Spanish-Language TV Shows"
           ],
           [
            "Eight thieves take hostages and lock themselves in the Royal Mint of Spain as a criminal mastermind manipulates the police to carry out his plan.",
            "A boy suddenly orphaned fights his parents' killer to save a planet, and discovers a new world of danger — and wonder.",
            "A young journalist is forced into a life of crime to save his father and family in this series based on the novel by Miguel Sáez Carral.",
            "As Havana slowly revolves through the year, wistful detective Mario Conde probes the sultry heart of the city to investigate dark and deadly crimes.",
            "In conservative 1950s Spain, the alleged relationship between a young man and a Mexican ballerino creates an uproar of harrowing consequences."
           ]
          ]
         },
         "columnorder": [
          1,
          2,
          3,
          4,
          5
         ],
         "columnwidth": [
          20,
          20,
          20,
          30,
          50
         ],
         "header": {
          "align": "center",
          "fill": {
           "color": "#FF6865"
          },
          "font": {
           "color": "black",
           "family": "Gravitas One",
           "size": 20
          },
          "height": 40,
          "line": {
           "color": "black"
          },
          "values": [
           "Type",
           "Title",
           "Country",
           "Genre(s)",
           "Description"
          ]
         },
         "type": "table"
        }
       ],
       "layout": {
        "height": 700,
        "template": {
         "data": {
          "bar": [
           {
            "error_x": {
             "color": "#2a3f5f"
            },
            "error_y": {
             "color": "#2a3f5f"
            },
            "marker": {
             "line": {
              "color": "#E5ECF6",
              "width": 0.5
             },
             "pattern": {
              "fillmode": "overlay",
              "size": 10,
              "solidity": 0.2
             }
            },
            "type": "bar"
           }
          ],
          "barpolar": [
           {
            "marker": {
             "line": {
              "color": "#E5ECF6",
              "width": 0.5
             },
             "pattern": {
              "fillmode": "overlay",
              "size": 10,
              "solidity": 0.2
             }
            },
            "type": "barpolar"
           }
          ],
          "carpet": [
           {
            "aaxis": {
             "endlinecolor": "#2a3f5f",
             "gridcolor": "white",
             "linecolor": "white",
             "minorgridcolor": "white",
             "startlinecolor": "#2a3f5f"
            },
            "baxis": {
             "endlinecolor": "#2a3f5f",
             "gridcolor": "white",
             "linecolor": "white",
             "minorgridcolor": "white",
             "startlinecolor": "#2a3f5f"
            },
            "type": "carpet"
           }
          ],
          "choropleth": [
           {
            "colorbar": {
             "outlinewidth": 0,
             "ticks": ""
            },
            "type": "choropleth"
           }
          ],
          "contour": [
           {
            "colorbar": {
             "outlinewidth": 0,
             "ticks": ""
            },
            "colorscale": [
             [
              0,
              "#0d0887"
             ],
             [
              0.1111111111111111,
              "#46039f"
             ],
             [
              0.2222222222222222,
              "#7201a8"
             ],
             [
              0.3333333333333333,
              "#9c179e"
             ],
             [
              0.4444444444444444,
              "#bd3786"
             ],
             [
              0.5555555555555556,
              "#d8576b"
             ],
             [
              0.6666666666666666,
              "#ed7953"
             ],
             [
              0.7777777777777778,
              "#fb9f3a"
             ],
             [
              0.8888888888888888,
              "#fdca26"
             ],
             [
              1,
              "#f0f921"
             ]
            ],
            "type": "contour"
           }
          ],
          "contourcarpet": [
           {
            "colorbar": {
             "outlinewidth": 0,
             "ticks": ""
            },
            "type": "contourcarpet"
           }
          ],
          "heatmap": [
           {
            "colorbar": {
             "outlinewidth": 0,
             "ticks": ""
            },
            "colorscale": [
             [
              0,
              "#0d0887"
             ],
             [
              0.1111111111111111,
              "#46039f"
             ],
             [
              0.2222222222222222,
              "#7201a8"
             ],
             [
              0.3333333333333333,
              "#9c179e"
             ],
             [
              0.4444444444444444,
              "#bd3786"
             ],
             [
              0.5555555555555556,
              "#d8576b"
             ],
             [
              0.6666666666666666,
              "#ed7953"
             ],
             [
              0.7777777777777778,
              "#fb9f3a"
             ],
             [
              0.8888888888888888,
              "#fdca26"
             ],
             [
              1,
              "#f0f921"
             ]
            ],
            "type": "heatmap"
           }
          ],
          "heatmapgl": [
           {
            "colorbar": {
             "outlinewidth": 0,
             "ticks": ""
            },
            "colorscale": [
             [
              0,
              "#0d0887"
             ],
             [
              0.1111111111111111,
              "#46039f"
             ],
             [
              0.2222222222222222,
              "#7201a8"
             ],
             [
              0.3333333333333333,
              "#9c179e"
             ],
             [
              0.4444444444444444,
              "#bd3786"
             ],
             [
              0.5555555555555556,
              "#d8576b"
             ],
             [
              0.6666666666666666,
              "#ed7953"
             ],
             [
              0.7777777777777778,
              "#fb9f3a"
             ],
             [
              0.8888888888888888,
              "#fdca26"
             ],
             [
              1,
              "#f0f921"
             ]
            ],
            "type": "heatmapgl"
           }
          ],
          "histogram": [
           {
            "marker": {
             "pattern": {
              "fillmode": "overlay",
              "size": 10,
              "solidity": 0.2
             }
            },
            "type": "histogram"
           }
          ],
          "histogram2d": [
           {
            "colorbar": {
             "outlinewidth": 0,
             "ticks": ""
            },
            "colorscale": [
             [
              0,
              "#0d0887"
             ],
             [
              0.1111111111111111,
              "#46039f"
             ],
             [
              0.2222222222222222,
              "#7201a8"
             ],
             [
              0.3333333333333333,
              "#9c179e"
             ],
             [
              0.4444444444444444,
              "#bd3786"
             ],
             [
              0.5555555555555556,
              "#d8576b"
             ],
             [
              0.6666666666666666,
              "#ed7953"
             ],
             [
              0.7777777777777778,
              "#fb9f3a"
             ],
             [
              0.8888888888888888,
              "#fdca26"
             ],
             [
              1,
              "#f0f921"
             ]
            ],
            "type": "histogram2d"
           }
          ],
          "histogram2dcontour": [
           {
            "colorbar": {
             "outlinewidth": 0,
             "ticks": ""
            },
            "colorscale": [
             [
              0,
              "#0d0887"
             ],
             [
              0.1111111111111111,
              "#46039f"
             ],
             [
              0.2222222222222222,
              "#7201a8"
             ],
             [
              0.3333333333333333,
              "#9c179e"
             ],
             [
              0.4444444444444444,
              "#bd3786"
             ],
             [
              0.5555555555555556,
              "#d8576b"
             ],
             [
              0.6666666666666666,
              "#ed7953"
             ],
             [
              0.7777777777777778,
              "#fb9f3a"
             ],
             [
              0.8888888888888888,
              "#fdca26"
             ],
             [
              1,
              "#f0f921"
             ]
            ],
            "type": "histogram2dcontour"
           }
          ],
          "mesh3d": [
           {
            "colorbar": {
             "outlinewidth": 0,
             "ticks": ""
            },
            "type": "mesh3d"
           }
          ],
          "parcoords": [
           {
            "line": {
             "colorbar": {
              "outlinewidth": 0,
              "ticks": ""
             }
            },
            "type": "parcoords"
           }
          ],
          "pie": [
           {
            "automargin": true,
            "type": "pie"
           }
          ],
          "scatter": [
           {
            "fillpattern": {
             "fillmode": "overlay",
             "size": 10,
             "solidity": 0.2
            },
            "type": "scatter"
           }
          ],
          "scatter3d": [
           {
            "line": {
             "colorbar": {
              "outlinewidth": 0,
              "ticks": ""
             }
            },
            "marker": {
             "colorbar": {
              "outlinewidth": 0,
              "ticks": ""
             }
            },
            "type": "scatter3d"
           }
          ],
          "scattercarpet": [
           {
            "marker": {
             "colorbar": {
              "outlinewidth": 0,
              "ticks": ""
             }
            },
            "type": "scattercarpet"
           }
          ],
          "scattergeo": [
           {
            "marker": {
             "colorbar": {
              "outlinewidth": 0,
              "ticks": ""
             }
            },
            "type": "scattergeo"
           }
          ],
          "scattergl": [
           {
            "marker": {
             "colorbar": {
              "outlinewidth": 0,
              "ticks": ""
             }
            },
            "type": "scattergl"
           }
          ],
          "scattermapbox": [
           {
            "marker": {
             "colorbar": {
              "outlinewidth": 0,
              "ticks": ""
             }
            },
            "type": "scattermapbox"
           }
          ],
          "scatterpolar": [
           {
            "marker": {
             "colorbar": {
              "outlinewidth": 0,
              "ticks": ""
             }
            },
            "type": "scatterpolar"
           }
          ],
          "scatterpolargl": [
           {
            "marker": {
             "colorbar": {
              "outlinewidth": 0,
              "ticks": ""
             }
            },
            "type": "scatterpolargl"
           }
          ],
          "scatterternary": [
           {
            "marker": {
             "colorbar": {
              "outlinewidth": 0,
              "ticks": ""
             }
            },
            "type": "scatterternary"
           }
          ],
          "surface": [
           {
            "colorbar": {
             "outlinewidth": 0,
             "ticks": ""
            },
            "colorscale": [
             [
              0,
              "#0d0887"
             ],
             [
              0.1111111111111111,
              "#46039f"
             ],
             [
              0.2222222222222222,
              "#7201a8"
             ],
             [
              0.3333333333333333,
              "#9c179e"
             ],
             [
              0.4444444444444444,
              "#bd3786"
             ],
             [
              0.5555555555555556,
              "#d8576b"
             ],
             [
              0.6666666666666666,
              "#ed7953"
             ],
             [
              0.7777777777777778,
              "#fb9f3a"
             ],
             [
              0.8888888888888888,
              "#fdca26"
             ],
             [
              1,
              "#f0f921"
             ]
            ],
            "type": "surface"
           }
          ],
          "table": [
           {
            "cells": {
             "fill": {
              "color": "#EBF0F8"
             },
             "line": {
              "color": "white"
             }
            },
            "header": {
             "fill": {
              "color": "#C8D4E3"
             },
             "line": {
              "color": "white"
             }
            },
            "type": "table"
           }
          ]
         },
         "layout": {
          "annotationdefaults": {
           "arrowcolor": "#2a3f5f",
           "arrowhead": 0,
           "arrowwidth": 1
          },
          "autotypenumbers": "strict",
          "coloraxis": {
           "colorbar": {
            "outlinewidth": 0,
            "ticks": ""
           }
          },
          "colorscale": {
           "diverging": [
            [
             0,
             "#8e0152"
            ],
            [
             0.1,
             "#c51b7d"
            ],
            [
             0.2,
             "#de77ae"
            ],
            [
             0.3,
             "#f1b6da"
            ],
            [
             0.4,
             "#fde0ef"
            ],
            [
             0.5,
             "#f7f7f7"
            ],
            [
             0.6,
             "#e6f5d0"
            ],
            [
             0.7,
             "#b8e186"
            ],
            [
             0.8,
             "#7fbc41"
            ],
            [
             0.9,
             "#4d9221"
            ],
            [
             1,
             "#276419"
            ]
           ],
           "sequential": [
            [
             0,
             "#0d0887"
            ],
            [
             0.1111111111111111,
             "#46039f"
            ],
            [
             0.2222222222222222,
             "#7201a8"
            ],
            [
             0.3333333333333333,
             "#9c179e"
            ],
            [
             0.4444444444444444,
             "#bd3786"
            ],
            [
             0.5555555555555556,
             "#d8576b"
            ],
            [
             0.6666666666666666,
             "#ed7953"
            ],
            [
             0.7777777777777778,
             "#fb9f3a"
            ],
            [
             0.8888888888888888,
             "#fdca26"
            ],
            [
             1,
             "#f0f921"
            ]
           ],
           "sequentialminus": [
            [
             0,
             "#0d0887"
            ],
            [
             0.1111111111111111,
             "#46039f"
            ],
            [
             0.2222222222222222,
             "#7201a8"
            ],
            [
             0.3333333333333333,
             "#9c179e"
            ],
            [
             0.4444444444444444,
             "#bd3786"
            ],
            [
             0.5555555555555556,
             "#d8576b"
            ],
            [
             0.6666666666666666,
             "#ed7953"
            ],
            [
             0.7777777777777778,
             "#fb9f3a"
            ],
            [
             0.8888888888888888,
             "#fdca26"
            ],
            [
             1,
             "#f0f921"
            ]
           ]
          },
          "colorway": [
           "#636efa",
           "#EF553B",
           "#00cc96",
           "#ab63fa",
           "#FFA15A",
           "#19d3f3",
           "#FF6692",
           "#B6E880",
           "#FF97FF",
           "#FECB52"
          ],
          "font": {
           "color": "#2a3f5f"
          },
          "geo": {
           "bgcolor": "white",
           "lakecolor": "white",
           "landcolor": "#E5ECF6",
           "showlakes": true,
           "showland": true,
           "subunitcolor": "white"
          },
          "hoverlabel": {
           "align": "left"
          },
          "hovermode": "closest",
          "mapbox": {
           "style": "light"
          },
          "paper_bgcolor": "white",
          "plot_bgcolor": "#E5ECF6",
          "polar": {
           "angularaxis": {
            "gridcolor": "white",
            "linecolor": "white",
            "ticks": ""
           },
           "bgcolor": "#E5ECF6",
           "radialaxis": {
            "gridcolor": "white",
            "linecolor": "white",
            "ticks": ""
           }
          },
          "scene": {
           "xaxis": {
            "backgroundcolor": "#E5ECF6",
            "gridcolor": "white",
            "gridwidth": 2,
            "linecolor": "white",
            "showbackground": true,
            "ticks": "",
            "zerolinecolor": "white"
           },
           "yaxis": {
            "backgroundcolor": "#E5ECF6",
            "gridcolor": "white",
            "gridwidth": 2,
            "linecolor": "white",
            "showbackground": true,
            "ticks": "",
            "zerolinecolor": "white"
           },
           "zaxis": {
            "backgroundcolor": "#E5ECF6",
            "gridcolor": "white",
            "gridwidth": 2,
            "linecolor": "white",
            "showbackground": true,
            "ticks": "",
            "zerolinecolor": "white"
           }
          },
          "shapedefaults": {
           "line": {
            "color": "#2a3f5f"
           }
          },
          "ternary": {
           "aaxis": {
            "gridcolor": "white",
            "linecolor": "white",
            "ticks": ""
           },
           "baxis": {
            "gridcolor": "white",
            "linecolor": "white",
            "ticks": ""
           },
           "bgcolor": "#E5ECF6",
           "caxis": {
            "gridcolor": "white",
            "linecolor": "white",
            "ticks": ""
           }
          },
          "title": {
           "x": 0.05
          },
          "xaxis": {
           "automargin": true,
           "gridcolor": "white",
           "linecolor": "white",
           "ticks": "",
           "title": {
            "standoff": 15
           },
           "zerolinecolor": "white",
           "zerolinewidth": 2
          },
          "yaxis": {
           "automargin": true,
           "gridcolor": "white",
           "linecolor": "white",
           "ticks": "",
           "title": {
            "standoff": 15
           },
           "zerolinecolor": "white",
           "zerolinewidth": 2
          }
         }
        },
        "title": {
         "font": {
          "family": "Gravitas One",
          "size": 22
         },
         "text": "Top 5 Recommendations",
         "x": 0.5
        }
       }
      }
     },
     "metadata": {},
     "output_type": "display_data"
    }
   ],
   "source": [
    "# Display recommendations for a sample title\n",
    "display_recommendations(get_recommendations(\"Elite\"))"
   ]
  },
  {
   "cell_type": "code",
   "execution_count": null,
   "metadata": {},
   "outputs": [],
   "source": []
  }
 ],
 "metadata": {
  "kernelspec": {
   "display_name": "base",
   "language": "python",
   "name": "python3"
  },
  "language_info": {
   "codemirror_mode": {
    "name": "ipython",
    "version": 3
   },
   "file_extension": ".py",
   "mimetype": "text/x-python",
   "name": "python",
   "nbconvert_exporter": "python",
   "pygments_lexer": "ipython3",
   "version": "3.11.5"
  }
 },
 "nbformat": 4,
 "nbformat_minor": 2
}
